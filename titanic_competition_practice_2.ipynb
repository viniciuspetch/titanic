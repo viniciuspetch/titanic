{
 "cells": [
  {
   "cell_type": "code",
   "execution_count": 1,
   "metadata": {
    "_cell_guid": "b1076dfc-b9ad-4769-8c92-a6c4dae69d19",
    "_uuid": "8f2839f25d086af736a60e9eeb907d3b93b6e0e5"
   },
   "outputs": [],
   "source": [
    "import numpy as np\n",
    "import pandas as pd\n",
    "from scipy import stats\n",
    "import matplotlib.pyplot as plt\n",
    "import os\n",
    "from sklearn.impute import SimpleImputer\n",
    "from sklearn.preprocessing import LabelEncoder\n",
    "from sklearn.preprocessing import StandardScaler\n",
    "from sklearn import preprocessing\n",
    "from sklearn.decomposition import PCA\n",
    "from sklearn.neighbors import KNeighborsClassifier\n",
    "from sklearn.model_selection import cross_val_score\n",
    "from sklearn.ensemble import BaggingClassifier"
   ]
  },
  {
   "cell_type": "code",
   "execution_count": 2,
   "metadata": {},
   "outputs": [],
   "source": [
    "titanic_train = pd.read_csv('train.csv')\n",
    "titanic_test = pd.read_csv('test.csv')\n",
    "df = titanic_train"
   ]
  },
  {
   "cell_type": "code",
   "execution_count": 3,
   "metadata": {
    "_cell_guid": "79c7e3d0-c299-4dcb-8224-4455121ee9b0",
    "_uuid": "d629ff2d2480ee46fbb7e2d37f6b5fab8052498a"
   },
   "outputs": [
    {
     "name": "stdout",
     "output_type": "stream",
     "text": [
      "Index(['PassengerId', 'Survived', 'Pclass', 'Name', 'Sex', 'Age', 'SibSp',\n",
      "       'Parch', 'Ticket', 'Fare', 'Cabin', 'Embarked'],\n",
      "      dtype='object')\n",
      "(891, 12)\n",
      "PassengerId    891\n",
      "Survived       891\n",
      "Pclass         891\n",
      "Name           891\n",
      "Sex            891\n",
      "Age            714\n",
      "SibSp          891\n",
      "Parch          891\n",
      "Ticket         891\n",
      "Fare           891\n",
      "Cabin          204\n",
      "Embarked       889\n",
      "dtype: int64\n",
      "PassengerId      int64\n",
      "Survived         int64\n",
      "Pclass           int64\n",
      "Name            object\n",
      "Sex             object\n",
      "Age            float64\n",
      "SibSp            int64\n",
      "Parch            int64\n",
      "Ticket          object\n",
      "Fare           float64\n",
      "Cabin           object\n",
      "Embarked        object\n",
      "dtype: object\n",
      "0      male\n",
      "1    female\n",
      "2    female\n",
      "3    female\n",
      "4      male\n",
      "Name: Sex, dtype: object\n"
     ]
    }
   ],
   "source": [
    "print(df.columns)\n",
    "print(df.shape)\n",
    "print(df.count())\n",
    "print(df.dtypes)\n",
    "print(df['Sex'].head())"
   ]
  },
  {
   "cell_type": "code",
   "execution_count": 4,
   "metadata": {},
   "outputs": [
    {
     "name": "stderr",
     "output_type": "stream",
     "text": [
      "C:\\ProgramData\\Anaconda3\\lib\\site-packages\\sklearn\\preprocessing\\data.py:645: DataConversionWarning: Data with input dtype int32, int64, float64 were all converted to float64 by StandardScaler.\n",
      "  return self.partial_fit(X, y)\n",
      "C:\\ProgramData\\Anaconda3\\lib\\site-packages\\sklearn\\base.py:464: DataConversionWarning: Data with input dtype int32, int64, float64 were all converted to float64 by StandardScaler.\n",
      "  return self.fit(X, **fit_params).transform(X)\n"
     ]
    }
   ],
   "source": [
    "attrList = ['Pclass','Sex','Age','Parch','SibSp','Fare']\n",
    "df = titanic_train[['Pclass','Sex','Age','Parch','SibSp','Fare','Survived']].copy()\n",
    "df['Age'] = SimpleImputer(missing_values=np.nan, strategy='most_frequent').fit_transform(df['Age'].values.reshape(-1, 1))\n",
    "df['Sex'] = LabelEncoder().fit_transform(df['Sex'])\n",
    "df[attrList] = StandardScaler().fit_transform(df[attrList])"
   ]
  },
  {
   "cell_type": "code",
   "execution_count": 5,
   "metadata": {},
   "outputs": [
    {
     "data": {
      "text/plain": [
       "array([[<matplotlib.axes._subplots.AxesSubplot object at 0x0000017A9B6599B0>,\n",
       "        <matplotlib.axes._subplots.AxesSubplot object at 0x0000017AA09C4E80>,\n",
       "        <matplotlib.axes._subplots.AxesSubplot object at 0x0000017AA09F6278>],\n",
       "       [<matplotlib.axes._subplots.AxesSubplot object at 0x0000017AA0CBC7F0>,\n",
       "        <matplotlib.axes._subplots.AxesSubplot object at 0x0000017AA0CE3D68>,\n",
       "        <matplotlib.axes._subplots.AxesSubplot object at 0x0000017AA0D12320>],\n",
       "       [<matplotlib.axes._subplots.AxesSubplot object at 0x0000017AA0D37898>,\n",
       "        <matplotlib.axes._subplots.AxesSubplot object at 0x0000017AA0D5FE48>,\n",
       "        <matplotlib.axes._subplots.AxesSubplot object at 0x0000017AA0D5FE80>]],\n",
       "      dtype=object)"
      ]
     },
     "execution_count": 5,
     "metadata": {},
     "output_type": "execute_result"
    },
    {
     "data": {
      "image/png": "[encoded data removed]",
      "text/plain": [
       "<Figure size 432x288 with 9 Axes>"
      ]
     },
     "metadata": {
      "needs_background": "light"
     },
     "output_type": "display_data"
    }
   ],
   "source": [
    "df.hist()"
   ]
  },
  {
   "cell_type": "code",
   "execution_count": 6,
   "metadata": {},
   "outputs": [
    {
     "data": {
      "text/plain": [
       "<matplotlib.axes._subplots.AxesSubplot at 0x17aa0f0c3c8>"
      ]
     },
     "execution_count": 6,
     "metadata": {},
     "output_type": "execute_result"
    },
    {
     "data": {
      "image/png": "[encoded data removed]",
      "text/plain": [
       "<Figure size 432x288 with 1 Axes>"
      ]
     },
     "metadata": {
      "needs_background": "light"
     },
     "output_type": "display_data"
    }
   ],
   "source": [
    "df.boxplot()"
   ]
  },
  {
   "cell_type": "code",
   "execution_count": 7,
   "metadata": {},
   "outputs": [
    {
     "data": {
      "text/html": [
       "<style  type=\"text/css\" >\n",
       "    #T_86bef834_a1a7_11e9_8e2c_641c67a2a6dcrow0_col0 {\n",
       "            background-color:  #b40426;\n",
       "            color:  #f1f1f1;\n",
       "        }    #T_86bef834_a1a7_11e9_8e2c_641c67a2a6dcrow0_col1 {\n",
       "            background-color:  #ccd9ed;\n",
       "            color:  #000000;\n",
       "        }    #T_86bef834_a1a7_11e9_8e2c_641c67a2a6dcrow0_col2 {\n",
       "            background-color:  #3b4cc0;\n",
       "            color:  #f1f1f1;\n",
       "        }    #T_86bef834_a1a7_11e9_8e2c_641c67a2a6dcrow0_col3 {\n",
       "            background-color:  #80a3fa;\n",
       "            color:  #000000;\n",
       "        }    #T_86bef834_a1a7_11e9_8e2c_641c67a2a6dcrow0_col4 {\n",
       "            background-color:  #8fb1fe;\n",
       "            color:  #000000;\n",
       "        }    #T_86bef834_a1a7_11e9_8e2c_641c67a2a6dcrow0_col5 {\n",
       "            background-color:  #3b4cc0;\n",
       "            color:  #f1f1f1;\n",
       "        }    #T_86bef834_a1a7_11e9_8e2c_641c67a2a6dcrow0_col6 {\n",
       "            background-color:  #6384eb;\n",
       "            color:  #000000;\n",
       "        }    #T_86bef834_a1a7_11e9_8e2c_641c67a2a6dcrow1_col0 {\n",
       "            background-color:  #ccd9ed;\n",
       "            color:  #000000;\n",
       "        }    #T_86bef834_a1a7_11e9_8e2c_641c67a2a6dcrow1_col1 {\n",
       "            background-color:  #b40426;\n",
       "            color:  #f1f1f1;\n",
       "        }    #T_86bef834_a1a7_11e9_8e2c_641c67a2a6dcrow1_col2 {\n",
       "            background-color:  #a5c3fe;\n",
       "            color:  #000000;\n",
       "        }    #T_86bef834_a1a7_11e9_8e2c_641c67a2a6dcrow1_col3 {\n",
       "            background-color:  #3b4cc0;\n",
       "            color:  #f1f1f1;\n",
       "        }    #T_86bef834_a1a7_11e9_8e2c_641c67a2a6dcrow1_col4 {\n",
       "            background-color:  #5875e1;\n",
       "            color:  #000000;\n",
       "        }    #T_86bef834_a1a7_11e9_8e2c_641c67a2a6dcrow1_col5 {\n",
       "            background-color:  #88abfd;\n",
       "            color:  #000000;\n",
       "        }    #T_86bef834_a1a7_11e9_8e2c_641c67a2a6dcrow1_col6 {\n",
       "            background-color:  #3b4cc0;\n",
       "            color:  #f1f1f1;\n",
       "        }    #T_86bef834_a1a7_11e9_8e2c_641c67a2a6dcrow2_col0 {\n",
       "            background-color:  #6180e9;\n",
       "            color:  #000000;\n",
       "        }    #T_86bef834_a1a7_11e9_8e2c_641c67a2a6dcrow2_col1 {\n",
       "            background-color:  #c0d4f5;\n",
       "            color:  #000000;\n",
       "        }    #T_86bef834_a1a7_11e9_8e2c_641c67a2a6dcrow2_col2 {\n",
       "            background-color:  #b40426;\n",
       "            color:  #f1f1f1;\n",
       "        }    #T_86bef834_a1a7_11e9_8e2c_641c67a2a6dcrow2_col3 {\n",
       "            background-color:  #506bda;\n",
       "            color:  #000000;\n",
       "        }    #T_86bef834_a1a7_11e9_8e2c_641c67a2a6dcrow2_col4 {\n",
       "            background-color:  #3b4cc0;\n",
       "            color:  #f1f1f1;\n",
       "        }    #T_86bef834_a1a7_11e9_8e2c_641c67a2a6dcrow2_col5 {\n",
       "            background-color:  #c7d7f0;\n",
       "            color:  #000000;\n",
       "        }    #T_86bef834_a1a7_11e9_8e2c_641c67a2a6dcrow2_col6 {\n",
       "            background-color:  #a5c3fe;\n",
       "            color:  #000000;\n",
       "        }    #T_86bef834_a1a7_11e9_8e2c_641c67a2a6dcrow3_col0 {\n",
       "            background-color:  #b5cdfa;\n",
       "            color:  #000000;\n",
       "        }    #T_86bef834_a1a7_11e9_8e2c_641c67a2a6dcrow3_col1 {\n",
       "            background-color:  #799cf8;\n",
       "            color:  #000000;\n",
       "        }    #T_86bef834_a1a7_11e9_8e2c_641c67a2a6dcrow3_col2 {\n",
       "            background-color:  #688aef;\n",
       "            color:  #000000;\n",
       "        }    #T_86bef834_a1a7_11e9_8e2c_641c67a2a6dcrow3_col3 {\n",
       "            background-color:  #b40426;\n",
       "            color:  #f1f1f1;\n",
       "        }    #T_86bef834_a1a7_11e9_8e2c_641c67a2a6dcrow3_col4 {\n",
       "            background-color:  #e3d9d3;\n",
       "            color:  #000000;\n",
       "        }    #T_86bef834_a1a7_11e9_8e2c_641c67a2a6dcrow3_col5 {\n",
       "            background-color:  #dbdcde;\n",
       "            color:  #000000;\n",
       "        }    #T_86bef834_a1a7_11e9_8e2c_641c67a2a6dcrow3_col6 {\n",
       "            background-color:  #c1d4f4;\n",
       "            color:  #000000;\n",
       "        }    #T_86bef834_a1a7_11e9_8e2c_641c67a2a6dcrow4_col0 {\n",
       "            background-color:  #c3d5f4;\n",
       "            color:  #000000;\n",
       "        }    #T_86bef834_a1a7_11e9_8e2c_641c67a2a6dcrow4_col1 {\n",
       "            background-color:  #97b8ff;\n",
       "            color:  #000000;\n",
       "        }    #T_86bef834_a1a7_11e9_8e2c_641c67a2a6dcrow4_col2 {\n",
       "            background-color:  #5673e0;\n",
       "            color:  #000000;\n",
       "        }    #T_86bef834_a1a7_11e9_8e2c_641c67a2a6dcrow4_col3 {\n",
       "            background-color:  #e4d9d2;\n",
       "            color:  #000000;\n",
       "        }    #T_86bef834_a1a7_11e9_8e2c_641c67a2a6dcrow4_col4 {\n",
       "            background-color:  #b40426;\n",
       "            color:  #f1f1f1;\n",
       "        }    #T_86bef834_a1a7_11e9_8e2c_641c67a2a6dcrow4_col5 {\n",
       "            background-color:  #d2dbe8;\n",
       "            color:  #000000;\n",
       "        }    #T_86bef834_a1a7_11e9_8e2c_641c67a2a6dcrow4_col6 {\n",
       "            background-color:  #a9c6fd;\n",
       "            color:  #000000;\n",
       "        }    #T_86bef834_a1a7_11e9_8e2c_641c67a2a6dcrow5_col0 {\n",
       "            background-color:  #3b4cc0;\n",
       "            color:  #f1f1f1;\n",
       "        }    #T_86bef834_a1a7_11e9_8e2c_641c67a2a6dcrow5_col1 {\n",
       "            background-color:  #86a9fc;\n",
       "            color:  #000000;\n",
       "        }    #T_86bef834_a1a7_11e9_8e2c_641c67a2a6dcrow5_col2 {\n",
       "            background-color:  #adc9fd;\n",
       "            color:  #000000;\n",
       "        }    #T_86bef834_a1a7_11e9_8e2c_641c67a2a6dcrow5_col3 {\n",
       "            background-color:  #b6cefa;\n",
       "            color:  #000000;\n",
       "        }    #T_86bef834_a1a7_11e9_8e2c_641c67a2a6dcrow5_col4 {\n",
       "            background-color:  #a5c3fe;\n",
       "            color:  #000000;\n",
       "        }    #T_86bef834_a1a7_11e9_8e2c_641c67a2a6dcrow5_col5 {\n",
       "            background-color:  #b40426;\n",
       "            color:  #f1f1f1;\n",
       "        }    #T_86bef834_a1a7_11e9_8e2c_641c67a2a6dcrow5_col6 {\n",
       "            background-color:  #e1dad6;\n",
       "            color:  #000000;\n",
       "        }    #T_86bef834_a1a7_11e9_8e2c_641c67a2a6dcrow6_col0 {\n",
       "            background-color:  #6485ec;\n",
       "            color:  #000000;\n",
       "        }    #T_86bef834_a1a7_11e9_8e2c_641c67a2a6dcrow6_col1 {\n",
       "            background-color:  #3b4cc0;\n",
       "            color:  #f1f1f1;\n",
       "        }    #T_86bef834_a1a7_11e9_8e2c_641c67a2a6dcrow6_col2 {\n",
       "            background-color:  #84a7fc;\n",
       "            color:  #000000;\n",
       "        }    #T_86bef834_a1a7_11e9_8e2c_641c67a2a6dcrow6_col3 {\n",
       "            background-color:  #92b4fe;\n",
       "            color:  #000000;\n",
       "        }    #T_86bef834_a1a7_11e9_8e2c_641c67a2a6dcrow6_col4 {\n",
       "            background-color:  #6c8ff1;\n",
       "            color:  #000000;\n",
       "        }    #T_86bef834_a1a7_11e9_8e2c_641c67a2a6dcrow6_col5 {\n",
       "            background-color:  #e2dad5;\n",
       "            color:  #000000;\n",
       "        }    #T_86bef834_a1a7_11e9_8e2c_641c67a2a6dcrow6_col6 {\n",
       "            background-color:  #b40426;\n",
       "            color:  #f1f1f1;\n",
       "        }</style><table id=\"T_86bef834_a1a7_11e9_8e2c_641c67a2a6dc\" ><thead>    <tr>        <th class=\"blank level0\" ></th>        <th class=\"col_heading level0 col0\" >Pclass</th>        <th class=\"col_heading level0 col1\" >Sex</th>        <th class=\"col_heading level0 col2\" >Age</th>        <th class=\"col_heading level0 col3\" >Parch</th>        <th class=\"col_heading level0 col4\" >SibSp</th>        <th class=\"col_heading level0 col5\" >Fare</th>        <th class=\"col_heading level0 col6\" >Survived</th>    </tr></thead><tbody>\n",
       "                <tr>\n",
       "                        <th id=\"T_86bef834_a1a7_11e9_8e2c_641c67a2a6dclevel0_row0\" class=\"row_heading level0 row0\" >Pclass</th>\n",
       "                        <td id=\"T_86bef834_a1a7_11e9_8e2c_641c67a2a6dcrow0_col0\" class=\"data row0 col0\" >1</td>\n",
       "                        <td id=\"T_86bef834_a1a7_11e9_8e2c_641c67a2a6dcrow0_col1\" class=\"data row0 col1\" >0.1319</td>\n",
       "                        <td id=\"T_86bef834_a1a7_11e9_8e2c_641c67a2a6dcrow0_col2\" class=\"data row0 col2\" >-0.356187</td>\n",
       "                        <td id=\"T_86bef834_a1a7_11e9_8e2c_641c67a2a6dcrow0_col3\" class=\"data row0 col3\" >0.0184427</td>\n",
       "                        <td id=\"T_86bef834_a1a7_11e9_8e2c_641c67a2a6dcrow0_col4\" class=\"data row0 col4\" >0.0830814</td>\n",
       "                        <td id=\"T_86bef834_a1a7_11e9_8e2c_641c67a2a6dcrow0_col5\" class=\"data row0 col5\" >-0.5495</td>\n",
       "                        <td id=\"T_86bef834_a1a7_11e9_8e2c_641c67a2a6dcrow0_col6\" class=\"data row0 col6\" >-0.338481</td>\n",
       "            </tr>\n",
       "            <tr>\n",
       "                        <th id=\"T_86bef834_a1a7_11e9_8e2c_641c67a2a6dclevel0_row1\" class=\"row_heading level0 row1\" >Sex</th>\n",
       "                        <td id=\"T_86bef834_a1a7_11e9_8e2c_641c67a2a6dcrow1_col0\" class=\"data row1 col0\" >0.1319</td>\n",
       "                        <td id=\"T_86bef834_a1a7_11e9_8e2c_641c67a2a6dcrow1_col1\" class=\"data row1 col1\" >1</td>\n",
       "                        <td id=\"T_86bef834_a1a7_11e9_8e2c_641c67a2a6dcrow1_col2\" class=\"data row1 col2\" >0.0733768</td>\n",
       "                        <td id=\"T_86bef834_a1a7_11e9_8e2c_641c67a2a6dcrow1_col3\" class=\"data row1 col3\" >-0.245489</td>\n",
       "                        <td id=\"T_86bef834_a1a7_11e9_8e2c_641c67a2a6dcrow1_col4\" class=\"data row1 col4\" >-0.114631</td>\n",
       "                        <td id=\"T_86bef834_a1a7_11e9_8e2c_641c67a2a6dcrow1_col5\" class=\"data row1 col5\" >-0.182333</td>\n",
       "                        <td id=\"T_86bef834_a1a7_11e9_8e2c_641c67a2a6dcrow1_col6\" class=\"data row1 col6\" >-0.543351</td>\n",
       "            </tr>\n",
       "            <tr>\n",
       "                        <th id=\"T_86bef834_a1a7_11e9_8e2c_641c67a2a6dclevel0_row2\" class=\"row_heading level0 row2\" >Age</th>\n",
       "                        <td id=\"T_86bef834_a1a7_11e9_8e2c_641c67a2a6dcrow2_col0\" class=\"data row2 col0\" >-0.356187</td>\n",
       "                        <td id=\"T_86bef834_a1a7_11e9_8e2c_641c67a2a6dcrow2_col1\" class=\"data row2 col1\" >0.0733768</td>\n",
       "                        <td id=\"T_86bef834_a1a7_11e9_8e2c_641c67a2a6dcrow2_col2\" class=\"data row2 col2\" >1</td>\n",
       "                        <td id=\"T_86bef834_a1a7_11e9_8e2c_641c67a2a6dcrow2_col3\" class=\"data row2 col3\" >-0.155118</td>\n",
       "                        <td id=\"T_86bef834_a1a7_11e9_8e2c_641c67a2a6dcrow2_col4\" class=\"data row2 col4\" >-0.232411</td>\n",
       "                        <td id=\"T_86bef834_a1a7_11e9_8e2c_641c67a2a6dcrow2_col5\" class=\"data row2 col5\" >0.107554</td>\n",
       "                        <td id=\"T_86bef834_a1a7_11e9_8e2c_641c67a2a6dcrow2_col6\" class=\"data row2 col6\" >-0.0528722</td>\n",
       "            </tr>\n",
       "            <tr>\n",
       "                        <th id=\"T_86bef834_a1a7_11e9_8e2c_641c67a2a6dclevel0_row3\" class=\"row_heading level0 row3\" >Parch</th>\n",
       "                        <td id=\"T_86bef834_a1a7_11e9_8e2c_641c67a2a6dcrow3_col0\" class=\"data row3 col0\" >0.0184427</td>\n",
       "                        <td id=\"T_86bef834_a1a7_11e9_8e2c_641c67a2a6dcrow3_col1\" class=\"data row3 col1\" >-0.245489</td>\n",
       "                        <td id=\"T_86bef834_a1a7_11e9_8e2c_641c67a2a6dcrow3_col2\" class=\"data row3 col2\" >-0.155118</td>\n",
       "                        <td id=\"T_86bef834_a1a7_11e9_8e2c_641c67a2a6dcrow3_col3\" class=\"data row3 col3\" >1</td>\n",
       "                        <td id=\"T_86bef834_a1a7_11e9_8e2c_641c67a2a6dcrow3_col4\" class=\"data row3 col4\" >0.414838</td>\n",
       "                        <td id=\"T_86bef834_a1a7_11e9_8e2c_641c67a2a6dcrow3_col5\" class=\"data row3 col5\" >0.216225</td>\n",
       "                        <td id=\"T_86bef834_a1a7_11e9_8e2c_641c67a2a6dcrow3_col6\" class=\"data row3 col6\" >0.0816294</td>\n",
       "            </tr>\n",
       "            <tr>\n",
       "                        <th id=\"T_86bef834_a1a7_11e9_8e2c_641c67a2a6dclevel0_row4\" class=\"row_heading level0 row4\" >SibSp</th>\n",
       "                        <td id=\"T_86bef834_a1a7_11e9_8e2c_641c67a2a6dcrow4_col0\" class=\"data row4 col0\" >0.0830814</td>\n",
       "                        <td id=\"T_86bef834_a1a7_11e9_8e2c_641c67a2a6dcrow4_col1\" class=\"data row4 col1\" >-0.114631</td>\n",
       "                        <td id=\"T_86bef834_a1a7_11e9_8e2c_641c67a2a6dcrow4_col2\" class=\"data row4 col2\" >-0.232411</td>\n",
       "                        <td id=\"T_86bef834_a1a7_11e9_8e2c_641c67a2a6dcrow4_col3\" class=\"data row4 col3\" >0.414838</td>\n",
       "                        <td id=\"T_86bef834_a1a7_11e9_8e2c_641c67a2a6dcrow4_col4\" class=\"data row4 col4\" >1</td>\n",
       "                        <td id=\"T_86bef834_a1a7_11e9_8e2c_641c67a2a6dcrow4_col5\" class=\"data row4 col5\" >0.159651</td>\n",
       "                        <td id=\"T_86bef834_a1a7_11e9_8e2c_641c67a2a6dcrow4_col6\" class=\"data row4 col6\" >-0.0353225</td>\n",
       "            </tr>\n",
       "            <tr>\n",
       "                        <th id=\"T_86bef834_a1a7_11e9_8e2c_641c67a2a6dclevel0_row5\" class=\"row_heading level0 row5\" >Fare</th>\n",
       "                        <td id=\"T_86bef834_a1a7_11e9_8e2c_641c67a2a6dcrow5_col0\" class=\"data row5 col0\" >-0.5495</td>\n",
       "                        <td id=\"T_86bef834_a1a7_11e9_8e2c_641c67a2a6dcrow5_col1\" class=\"data row5 col1\" >-0.182333</td>\n",
       "                        <td id=\"T_86bef834_a1a7_11e9_8e2c_641c67a2a6dcrow5_col2\" class=\"data row5 col2\" >0.107554</td>\n",
       "                        <td id=\"T_86bef834_a1a7_11e9_8e2c_641c67a2a6dcrow5_col3\" class=\"data row5 col3\" >0.216225</td>\n",
       "                        <td id=\"T_86bef834_a1a7_11e9_8e2c_641c67a2a6dcrow5_col4\" class=\"data row5 col4\" >0.159651</td>\n",
       "                        <td id=\"T_86bef834_a1a7_11e9_8e2c_641c67a2a6dcrow5_col5\" class=\"data row5 col5\" >1</td>\n",
       "                        <td id=\"T_86bef834_a1a7_11e9_8e2c_641c67a2a6dcrow5_col6\" class=\"data row5 col6\" >0.257307</td>\n",
       "            </tr>\n",
       "            <tr>\n",
       "                        <th id=\"T_86bef834_a1a7_11e9_8e2c_641c67a2a6dclevel0_row6\" class=\"row_heading level0 row6\" >Survived</th>\n",
       "                        <td id=\"T_86bef834_a1a7_11e9_8e2c_641c67a2a6dcrow6_col0\" class=\"data row6 col0\" >-0.338481</td>\n",
       "                        <td id=\"T_86bef834_a1a7_11e9_8e2c_641c67a2a6dcrow6_col1\" class=\"data row6 col1\" >-0.543351</td>\n",
       "                        <td id=\"T_86bef834_a1a7_11e9_8e2c_641c67a2a6dcrow6_col2\" class=\"data row6 col2\" >-0.0528722</td>\n",
       "                        <td id=\"T_86bef834_a1a7_11e9_8e2c_641c67a2a6dcrow6_col3\" class=\"data row6 col3\" >0.0816294</td>\n",
       "                        <td id=\"T_86bef834_a1a7_11e9_8e2c_641c67a2a6dcrow6_col4\" class=\"data row6 col4\" >-0.0353225</td>\n",
       "                        <td id=\"T_86bef834_a1a7_11e9_8e2c_641c67a2a6dcrow6_col5\" class=\"data row6 col5\" >0.257307</td>\n",
       "                        <td id=\"T_86bef834_a1a7_11e9_8e2c_641c67a2a6dcrow6_col6\" class=\"data row6 col6\" >1</td>\n",
       "            </tr>\n",
       "    </tbody></table>"
      ],
      "text/plain": [
       "<pandas.io.formats.style.Styler at 0x17aa102ca90>"
      ]
     },
     "execution_count": 7,
     "metadata": {},
     "output_type": "execute_result"
    }
   ],
   "source": [
    "df.corr().style.background_gradient(cmap='coolwarm')"
   ]
  },
  {
   "cell_type": "code",
   "execution_count": 8,
   "metadata": {},
   "outputs": [
    {
     "data": {
      "image/png": "[encoded data removed]",
      "text/plain": [
       "<Figure size 432x288 with 1 Axes>"
      ]
     },
     "metadata": {
      "needs_background": "light"
     },
     "output_type": "display_data"
    }
   ],
   "source": [
    "scoreList = []\n",
    "Y = df['Survived']\n",
    "for i in range(1,len(attrList)+1):\n",
    "    X = pd.DataFrame(PCA(n_components=i).fit_transform(df[attrList]))\n",
    "    cvScore = cross_val_score(KNeighborsClassifier(), X, Y, cv=10)\n",
    "    scoreList.append(cvScore)\n",
    "fig1, ax1 = plt.subplots()\n",
    "ax1.boxplot(scoreList)\n",
    "plt.show()"
   ]
  },
  {
   "cell_type": "code",
   "execution_count": 9,
   "metadata": {},
   "outputs": [
    {
     "data": {
      "image/png": "[encoded data removed]",
      "text/plain": [
       "<Figure size 432x288 with 1 Axes>"
      ]
     },
     "metadata": {
      "needs_background": "light"
     },
     "output_type": "display_data"
    }
   ],
   "source": [
    "newList = scoreList\n",
    "bagScore = cross_val_score(BaggingClassifier(KNeighborsClassifier()), X, Y, cv=10)\n",
    "fig1, ax1 = plt.subplots()\n",
    "newList.append(bagScore)\n",
    "ax1.boxplot(newList)\n",
    "plt.show()"
   ]
  },
  {
   "cell_type": "code",
   "execution_count": 14,
   "metadata": {},
   "outputs": [
    {
     "data": {
      "image/png": "[encoded data removed]",
      "text/plain": [
       "<Figure size 432x288 with 1 Axes>"
      ]
     },
     "metadata": {
      "needs_background": "light"
     },
     "output_type": "display_data"
    }
   ],
   "source": [
    "from sklearn.ensemble import RandomForestClassifier\n",
    "newList = scoreList\n",
    "forestScore = cross_val_score(RandomForestClassifier(n_estimators=10), X, Y, cv=10)\n",
    "fig1, ax1 = plt.subplots()\n",
    "newList.append(forestScore)\n",
    "ax1.boxplot(newList)\n",
    "plt.show()"
   ]
  },
  {
   "cell_type": "code",
   "execution_count": 11,
   "metadata": {},
   "outputs": [
    {
     "name": "stderr",
     "output_type": "stream",
     "text": [
      "C:\\ProgramData\\Anaconda3\\lib\\site-packages\\sklearn\\neural_network\\multilayer_perceptron.py:562: ConvergenceWarning: Stochastic Optimizer: Maximum iterations (200) reached and the optimization hasn't converged yet.\n",
      "  % self.max_iter, ConvergenceWarning)\n",
      "C:\\ProgramData\\Anaconda3\\lib\\site-packages\\sklearn\\neural_network\\multilayer_perceptron.py:562: ConvergenceWarning: Stochastic Optimizer: Maximum iterations (200) reached and the optimization hasn't converged yet.\n",
      "  % self.max_iter, ConvergenceWarning)\n",
      "C:\\ProgramData\\Anaconda3\\lib\\site-packages\\sklearn\\neural_network\\multilayer_perceptron.py:562: ConvergenceWarning: Stochastic Optimizer: Maximum iterations (200) reached and the optimization hasn't converged yet.\n",
      "  % self.max_iter, ConvergenceWarning)\n",
      "C:\\ProgramData\\Anaconda3\\lib\\site-packages\\sklearn\\neural_network\\multilayer_perceptron.py:562: ConvergenceWarning: Stochastic Optimizer: Maximum iterations (200) reached and the optimization hasn't converged yet.\n",
      "  % self.max_iter, ConvergenceWarning)\n",
      "C:\\ProgramData\\Anaconda3\\lib\\site-packages\\sklearn\\neural_network\\multilayer_perceptron.py:562: ConvergenceWarning: Stochastic Optimizer: Maximum iterations (200) reached and the optimization hasn't converged yet.\n",
      "  % self.max_iter, ConvergenceWarning)\n",
      "C:\\ProgramData\\Anaconda3\\lib\\site-packages\\sklearn\\neural_network\\multilayer_perceptron.py:562: ConvergenceWarning: Stochastic Optimizer: Maximum iterations (200) reached and the optimization hasn't converged yet.\n",
      "  % self.max_iter, ConvergenceWarning)\n",
      "C:\\ProgramData\\Anaconda3\\lib\\site-packages\\sklearn\\neural_network\\multilayer_perceptron.py:562: ConvergenceWarning: Stochastic Optimizer: Maximum iterations (200) reached and the optimization hasn't converged yet.\n",
      "  % self.max_iter, ConvergenceWarning)\n",
      "C:\\ProgramData\\Anaconda3\\lib\\site-packages\\sklearn\\neural_network\\multilayer_perceptron.py:562: ConvergenceWarning: Stochastic Optimizer: Maximum iterations (200) reached and the optimization hasn't converged yet.\n",
      "  % self.max_iter, ConvergenceWarning)\n",
      "C:\\ProgramData\\Anaconda3\\lib\\site-packages\\sklearn\\neural_network\\multilayer_perceptron.py:562: ConvergenceWarning: Stochastic Optimizer: Maximum iterations (200) reached and the optimization hasn't converged yet.\n",
      "  % self.max_iter, ConvergenceWarning)\n",
      "C:\\ProgramData\\Anaconda3\\lib\\site-packages\\sklearn\\neural_network\\multilayer_perceptron.py:562: ConvergenceWarning: Stochastic Optimizer: Maximum iterations (200) reached and the optimization hasn't converged yet.\n",
      "  % self.max_iter, ConvergenceWarning)\n",
      "C:\\ProgramData\\Anaconda3\\lib\\site-packages\\sklearn\\neural_network\\multilayer_perceptron.py:562: ConvergenceWarning: Stochastic Optimizer: Maximum iterations (200) reached and the optimization hasn't converged yet.\n",
      "  % self.max_iter, ConvergenceWarning)\n",
      "C:\\ProgramData\\Anaconda3\\lib\\site-packages\\sklearn\\neural_network\\multilayer_perceptron.py:562: ConvergenceWarning: Stochastic Optimizer: Maximum iterations (200) reached and the optimization hasn't converged yet.\n",
      "  % self.max_iter, ConvergenceWarning)\n",
      "C:\\ProgramData\\Anaconda3\\lib\\site-packages\\sklearn\\neural_network\\multilayer_perceptron.py:562: ConvergenceWarning: Stochastic Optimizer: Maximum iterations (200) reached and the optimization hasn't converged yet.\n",
      "  % self.max_iter, ConvergenceWarning)\n",
      "C:\\ProgramData\\Anaconda3\\lib\\site-packages\\sklearn\\neural_network\\multilayer_perceptron.py:562: ConvergenceWarning: Stochastic Optimizer: Maximum iterations (200) reached and the optimization hasn't converged yet.\n",
      "  % self.max_iter, ConvergenceWarning)\n",
      "C:\\ProgramData\\Anaconda3\\lib\\site-packages\\sklearn\\neural_network\\multilayer_perceptron.py:562: ConvergenceWarning: Stochastic Optimizer: Maximum iterations (200) reached and the optimization hasn't converged yet.\n",
      "  % self.max_iter, ConvergenceWarning)\n",
      "C:\\ProgramData\\Anaconda3\\lib\\site-packages\\sklearn\\neural_network\\multilayer_perceptron.py:562: ConvergenceWarning: Stochastic Optimizer: Maximum iterations (200) reached and the optimization hasn't converged yet.\n",
      "  % self.max_iter, ConvergenceWarning)\n",
      "C:\\ProgramData\\Anaconda3\\lib\\site-packages\\sklearn\\neural_network\\multilayer_perceptron.py:562: ConvergenceWarning: Stochastic Optimizer: Maximum iterations (200) reached and the optimization hasn't converged yet.\n",
      "  % self.max_iter, ConvergenceWarning)\n",
      "C:\\ProgramData\\Anaconda3\\lib\\site-packages\\sklearn\\neural_network\\multilayer_perceptron.py:562: ConvergenceWarning: Stochastic Optimizer: Maximum iterations (200) reached and the optimization hasn't converged yet.\n",
      "  % self.max_iter, ConvergenceWarning)\n",
      "C:\\ProgramData\\Anaconda3\\lib\\site-packages\\sklearn\\neural_network\\multilayer_perceptron.py:562: ConvergenceWarning: Stochastic Optimizer: Maximum iterations (200) reached and the optimization hasn't converged yet.\n",
      "  % self.max_iter, ConvergenceWarning)\n",
      "C:\\ProgramData\\Anaconda3\\lib\\site-packages\\sklearn\\neural_network\\multilayer_perceptron.py:562: ConvergenceWarning: Stochastic Optimizer: Maximum iterations (200) reached and the optimization hasn't converged yet.\n",
      "  % self.max_iter, ConvergenceWarning)\n",
      "C:\\ProgramData\\Anaconda3\\lib\\site-packages\\sklearn\\model_selection\\_search.py:841: DeprecationWarning: The default of the `iid` parameter will change from True to False in version 0.22 and will be removed in 0.24. This will change numeric results when test-set sizes are unequal.\n",
      "  DeprecationWarning)\n"
     ]
    },
    {
     "name": "stdout",
     "output_type": "stream",
     "text": [
      "0.8170594837261503\n",
      "{'learning_rate': 'invscaling', 'solver': 'adam'}\n"
     ]
    },
    {
     "name": "stderr",
     "output_type": "stream",
     "text": [
      "C:\\ProgramData\\Anaconda3\\lib\\site-packages\\sklearn\\neural_network\\multilayer_perceptron.py:562: ConvergenceWarning: Stochastic Optimizer: Maximum iterations (200) reached and the optimization hasn't converged yet.\n",
      "  % self.max_iter, ConvergenceWarning)\n"
     ]
    }
   ],
   "source": [
    "from sklearn.neural_network import MLPClassifier\n",
    "from sklearn.model_selection import GridSearchCV\n",
    "\n",
    "param = {'solver':['lbfgs','sgd','adam'], 'learning_rate':['constant','invscaling','adaptive']}\n",
    "clf = GridSearchCV(MLPClassifier(), param, cv=10)\n",
    "clf.fit(X, Y)\n",
    "print(clf.best_score_)\n",
    "print(clf.best_params_)\n",
    "\n",
    "#newList = scoreList\n",
    "#mlpScore = cross_val_score(MLPClassifier(), X, Y, cv=10)\n",
    "#fig1, ax1 = plt.subplots()\n",
    "#newList.append(mlpScore)\n",
    "#ax1.boxplot(newList)\n",
    "#plt.show()"
   ]
  },
  {
   "cell_type": "code",
   "execution_count": 12,
   "metadata": {},
   "outputs": [
    {
     "name": "stdout",
     "output_type": "stream",
     "text": [
      "[0.77665544 0.8047138  0.81369248 0.78900112 0.47811448 0.81705948\n",
      " 0.77890011 0.8047138  0.80920314]\n",
      "[{'learning_rate': 'constant', 'solver': 'lbfgs'}, {'learning_rate': 'constant', 'solver': 'sgd'}, {'learning_rate': 'constant', 'solver': 'adam'}, {'learning_rate': 'invscaling', 'solver': 'lbfgs'}, {'learning_rate': 'invscaling', 'solver': 'sgd'}, {'learning_rate': 'invscaling', 'solver': 'adam'}, {'learning_rate': 'adaptive', 'solver': 'lbfgs'}, {'learning_rate': 'adaptive', 'solver': 'sgd'}, {'learning_rate': 'adaptive', 'solver': 'adam'}]\n"
     ]
    }
   ],
   "source": [
    "print(clf.cv_results_['mean_test_score'])\n",
    "print(clf.cv_results_['params'])"
   ]
  },
  {
   "cell_type": "code",
   "execution_count": null,
   "metadata": {},
   "outputs": [],
   "source": []
  }
 ],
 "metadata": {
  "kernelspec": {
   "display_name": "Python 3",
   "language": "python",
   "name": "python3"
  },
  "language_info": {
   "codemirror_mode": {
    "name": "ipython",
    "version": 3
   },
   "file_extension": ".py",
   "mimetype": "text/x-python",
   "name": "python",
   "nbconvert_exporter": "python",
   "pygments_lexer": "ipython3",
   "version": "3.7.3"
  }
 },
 "nbformat": 4,
 "nbformat_minor": 1
}
